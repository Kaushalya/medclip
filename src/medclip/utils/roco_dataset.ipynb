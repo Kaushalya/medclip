{
 "cells": [
  {
   "cell_type": "code",
   "execution_count": null,
   "source": [
    "import json\n",
    "import os\n",
    "import pandas as pd\n",
    "import matplotlib.pyplot as plt\n",
    "import torchvision"
   ],
   "outputs": [],
   "metadata": {}
  },
  {
   "cell_type": "code",
   "execution_count": null,
   "source": [
    "train_path = '/home/kaumad/roco-dataset/train'\n",
    "train_img_dir = os.path.join(train_path, 'radiology', 'images')\n",
    "val_path = '/home/kaumad/roco-dataset/validation'\n",
    "val_img_dir = os.path.join(val_path, 'radiology', 'images')\n",
    "test_path = '/home/kaumad/roco-dataset/test'\n",
    "test_img_dir = os.path.join(test_path, 'radiology', 'images')"
   ],
   "outputs": [],
   "metadata": {}
  },
  {
   "cell_type": "code",
   "execution_count": null,
   "source": [
    "def has_unicode(text):\n",
    "    for c in text:\n",
    "        if ord(c)>127:\n",
    "            print(f\"unicode: {c}\", text)\n",
    "            return True\n",
    "    return False"
   ],
   "outputs": [],
   "metadata": {}
  },
  {
   "cell_type": "code",
   "execution_count": null,
   "source": [
    "import collections\n",
    "\n",
    "def read_lines(img_dir, csv_file, n_lines=0):\n",
    "    lines = []\n",
    "    image_path_to_caption = collections.defaultdict(list)\n",
    "    for idx, row in csv_file.iterrows():\n",
    "        if n_lines > 0 and idx > n_lines:\n",
    "            break\n",
    "        img_path = os.path.join(img_dir, row['name'])\n",
    "        if not os.path.exists(img_path):\n",
    "            continue\n",
    "        try:\n",
    "            # to make sure the file is a valid image\n",
    "            data = torchvision.io.image.read_file(img_path)\n",
    "        except:\n",
    "            print(img_path)\n",
    "            continue\n",
    "        # TODO check if the image is not empty\n",
    "        caption = row['caption'].lower().rstrip().replace(\n",
    "            \"\\\\n\", \"\").rstrip(\".\")\n",
    "        try:\n",
    "            caption = caption.encode('ascii')\n",
    "        except:\n",
    "            continue\n",
    "        \n",
    "        if len(caption) < 10:\n",
    "            continue\n",
    "        # caption = caption.replace(\"\\\\n\", \"\").rstrip()\n",
    "        # print([caption])\n",
    "        # has_unicode(caption)\n",
    "        caption = f\"{caption}\"\n",
    "        image_path_to_caption[img_path].append(caption)\n",
    "\n",
    "    for img_path, captions in image_path_to_caption.items():\n",
    "        line = json.dumps({\"image_path\": img_path, \"captions\": captions})\n",
    "        lines.append(line)\n",
    "\n",
    "    return lines\n"
   ],
   "outputs": [],
   "metadata": {}
  },
  {
   "cell_type": "code",
   "execution_count": null,
   "source": [
    "train_csv = pd.read_csv(os.path.join(train_path, 'radiology', 'traindata.csv'))\n",
    "lines = read_lines(train_img_dir, train_csv, n_lines=0)"
   ],
   "outputs": [],
   "metadata": {}
  },
  {
   "cell_type": "code",
   "execution_count": null,
   "source": [
    "json_dir = '../../../data'\n",
    "with open(os.path.join(json_dir, \"train_dataset.json\"), \"w\") as f:\n",
    "    f.write(\"\\n\".join(lines))"
   ],
   "outputs": [],
   "metadata": {}
  },
  {
   "cell_type": "code",
   "execution_count": null,
   "source": [
    "val_csv = pd.read_csv(os.path.join(val_path, 'radiology', 'valdata.csv'))\n",
    "lines = read_lines(val_img_dir, val_csv, n_lines=0)"
   ],
   "outputs": [],
   "metadata": {}
  },
  {
   "cell_type": "code",
   "execution_count": null,
   "source": [
    "with open(os.path.join(json_dir, \"valid_dataset-sample.json\"), \"w\") as f:\n",
    "    f.write(\"\\n\".join(lines))"
   ],
   "outputs": [],
   "metadata": {}
  },
  {
   "cell_type": "code",
   "execution_count": null,
   "source": [
    "# Used only for creating sample dataset\n",
    "train_lines = lines[:45000]\n",
    "val_lines = lines[45000:]\n",
    "\n",
    "json_dir = '../../../data'\n",
    "with open(os.path.join(json_dir, \"train_dataset.json\"), \"w\") as f:\n",
    "    f.write(\"\\n\".join(train_lines))\n",
    "\n",
    "with open(os.path.join(json_dir, \"valid_dataset.json\"), \"w\") as f:\n",
    "    f.write(\"\\n\".join(val_lines))"
   ],
   "outputs": [],
   "metadata": {}
  },
  {
   "cell_type": "code",
   "execution_count": null,
   "source": [
    "# A sample caption\n",
    "caption = \" axial computed tomography scan of the pelvis showing a diffuse infiltration of the bladder wall, catheter in situ (arrow).\\\\n\"\n",
    "caption.rstrip(\"\\\\n\")"
   ],
   "outputs": [],
   "metadata": {}
  }
 ],
 "metadata": {
  "orig_nbformat": 4,
  "language_info": {
   "name": "python",
   "version": "3.8.10",
   "mimetype": "text/x-python",
   "codemirror_mode": {
    "name": "ipython",
    "version": 3
   },
   "pygments_lexer": "ipython3",
   "nbconvert_exporter": "python",
   "file_extension": ".py"
  },
  "kernelspec": {
   "name": "python3",
   "display_name": "Python 3.8.10 64-bit ('flax_p38': conda)"
  },
  "interpreter": {
   "hash": "fda4fd4de3a5168ee401e6a8bc403773c4a319de4acc93ad38bd4785b7828b5c"
  }
 },
 "nbformat": 4,
 "nbformat_minor": 2
}